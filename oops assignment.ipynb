{
 "cells": [
  {
   "cell_type": "markdown",
   "id": "2b7ecb03-2089-4697-bb20-a0ab7a79cdcf",
   "metadata": {},
   "source": [
    "#Ans 1.\n",
    "\n",
    "class vehicle :\n",
    "    def __init__(self,name_of_vehicle,max_speed,average_of_vehicle):\n",
    "        self.name_of_vehicle=name_of_vehicle\n",
    "        self.max_speed=max_speed\n",
    "        self.average_of_vehicle=average_of_vehicle\n",
    "        \n",
    "    def vehicle_details(self):\n",
    "        print(self.name_of_vehicle,self.max_speed,   self.average_of_vehicle)"
   ]
  },
  {
   "cell_type": "markdown",
   "id": "0735c621-8958-4d32-a59b-2ca2eba5caeb",
   "metadata": {},
   "source": [
    "obj = vehicle(\"toyata\" , 65  , \"good vehicle\")"
   ]
  },
  {
   "cell_type": "markdown",
   "id": "9009738b-5490-4f2c-872b-200dbf2c4ad3",
   "metadata": {},
   "source": [
    "obj.name_of_vehicle        #  o/p is toyata"
   ]
  },
  {
   "cell_type": "markdown",
   "id": "00fbc65c-824a-4dc2-9294-5844cde0085b",
   "metadata": {},
   "source": [
    "obj.max_speed              # o/p is 65"
   ]
  },
  {
   "cell_type": "code",
   "execution_count": null,
   "id": "d54d9471-ea7a-49bb-b947-5a9f18aa1350",
   "metadata": {},
   "outputs": [],
   "source": []
  },
  {
   "cell_type": "markdown",
   "id": "f3f58eeb-9085-4bef-ae4d-691777c0b797",
   "metadata": {},
   "source": [
    "#Ans 2.\n",
    "\n",
    "class vehicle:\n",
    "    def seating_capacity(self):\n",
    "        return 'vehicle name is toyata and seating capacity is 8 person'"
   ]
  },
  {
   "cell_type": "code",
   "execution_count": 27,
   "id": "dc48f65d-d30c-46a8-8100-752690de1d73",
   "metadata": {},
   "outputs": [],
   "source": [
    "class child(vehicle):\n",
    "    pass\n"
   ]
  },
  {
   "cell_type": "code",
   "execution_count": 28,
   "id": "7eba6f4a-0156-4012-87d3-dd9eca537929",
   "metadata": {},
   "outputs": [],
   "source": [
    "child_obj=child()"
   ]
  },
  {
   "cell_type": "code",
   "execution_count": 29,
   "id": "5a696fd0-8d4a-452a-aea3-2e6d642af4a5",
   "metadata": {},
   "outputs": [
    {
     "data": {
      "text/plain": [
       "'vehicle name is toyata and seating capacity is 8 person'"
      ]
     },
     "execution_count": 29,
     "metadata": {},
     "output_type": "execute_result"
    }
   ],
   "source": [
    "child_obj.seating_capacity()"
   ]
  },
  {
   "cell_type": "code",
   "execution_count": null,
   "id": "2eabea1f-714b-4b4f-808e-015faeab4795",
   "metadata": {},
   "outputs": [],
   "source": []
  },
  {
   "cell_type": "markdown",
   "id": "7268860b-5c18-4749-a8de-ae1030c31d39",
   "metadata": {},
   "source": [
    "#Ans 3.\n",
    "\n",
    "#Multiple inheritance-: When a class is derived from more than one base class it is called multiple inheritance .\n",
    "                        the derived class inheritance all the features of the base case. eg.\n",
    "                       \n",
    "                       \n",
    "class vijul:\n",
    "     def family(self):\n",
    "         return \"name of his son is Chandrabhan\"\n",
    "         \n",
    "class chandrabhan(vijul):\n",
    "    \n",
    "       def family1(self):\n",
    "           return \"name of his son is Bhardwaj,akash, omprakash\"\n",
    "           \n",
    "class akash(chandrabhan):\n",
    "      pass"
   ]
  },
  {
   "cell_type": "markdown",
   "id": "b4147596-fbb0-4930-aa60-32f006a346d1",
   "metadata": {},
   "source": [
    "akash_obj=akash()"
   ]
  },
  {
   "cell_type": "markdown",
   "id": "1d6bd13c-892f-47fc-be02-a408d5694e22",
   "metadata": {},
   "source": [
    "akash_obj.family()"
   ]
  },
  {
   "cell_type": "markdown",
   "id": "2de66e1b-204b-4f46-95ec-3492adf57425",
   "metadata": {},
   "source": [
    "akash_obj.family1()"
   ]
  },
  {
   "cell_type": "code",
   "execution_count": null,
   "id": "1d952f2e-2110-4e2f-b7ad-ac0e51810f2f",
   "metadata": {},
   "outputs": [],
   "source": []
  },
  {
   "cell_type": "markdown",
   "id": "7430514b-507d-46a4-a372-c74ab99f72a9",
   "metadata": {},
   "source": [
    "#Ans 4. \n",
    "\n",
    "#Getter-: A method that allows you to access to attribute in given class.\n",
    "#Setter-: A method that allows you to set or mutate the value of an attribute in a class.\n",
    "\n",
    "#code based on getter and setter-:\n",
    "    \n",
    "class child_age:\n",
    "    def __init__(self,age=0):\n",
    "        self._age=age\n",
    "        \n",
    "    #getter method \n",
    "    def get_age(self):\n",
    "        return self._age\n",
    "    \n",
    "    #setter method\n",
    "    def set_age(self,x):\n",
    "        self._age=x\n",
    "        \n",
    "    \n",
    "    \n",
    "        \n",
    "\n",
    "\n"
   ]
  },
  {
   "cell_type": "code",
   "execution_count": 41,
   "id": "1ca34ffb-9f49-4c20-bbd0-6aab0a3f6304",
   "metadata": {},
   "outputs": [],
   "source": [
    "child_age_obj=child_age()"
   ]
  },
  {
   "cell_type": "code",
   "execution_count": 42,
   "id": "3b0e4d30-8de6-44b2-86d1-026ea0187ed7",
   "metadata": {},
   "outputs": [],
   "source": [
    "child_age_obj.set_age(20)"
   ]
  },
  {
   "cell_type": "markdown",
   "id": "7603f9cc-d086-4878-a65b-81c1277b91c4",
   "metadata": {},
   "source": [
    "print(child_age_obj.get_age())"
   ]
  },
  {
   "cell_type": "markdown",
   "id": "f797b4f4-25bc-467e-9ef1-a958a47e79d7",
   "metadata": {},
   "source": [
    "print(child_age_obj._age)"
   ]
  },
  {
   "cell_type": "markdown",
   "id": "0b259859-8d49-4683-9bcc-23dd803a534e",
   "metadata": {},
   "source": []
  },
  {
   "cell_type": "markdown",
   "id": "35857302-29e8-4007-80c5-c4b0e97c1504",
   "metadata": {},
   "source": [
    "#Ans 5.\n",
    "\n",
    "\"\"\" Any OPPs can allow a subclass or child class to offer a customized implementation of method already supplied \n",
    "      by one of its superclasss or parent class .this capability is known as method overridding  \"\"\"\n",
    "\n",
    "#code based on overridding\n",
    "\n",
    "class parent():\n",
    "    def __init__(self):\n",
    "        self.value= 'inside parent'\n",
    "        \n",
    "    def show(self):\n",
    "        print(self.value)\n",
    "        \n",
    "class child(parent):\n",
    "    def __init__(self):\n",
    "        self.value=\"inside child\"\n",
    "        \n",
    "    def show(self):\n",
    "        print(self.value)"
   ]
  },
  {
   "cell_type": "markdown",
   "id": "437605ce-c5c5-42de-af91-c8e668a1ee22",
   "metadata": {},
   "source": [
    "obj1=parent()"
   ]
  },
  {
   "cell_type": "markdown",
   "id": "4c63d185-d65e-469a-9688-b0adfcdb3377",
   "metadata": {},
   "source": [
    "obj2=child()"
   ]
  },
  {
   "cell_type": "markdown",
   "id": "11fce414-42e3-4c7a-99a5-f59e3414b504",
   "metadata": {},
   "source": [
    "obj1.show()"
   ]
  },
  {
   "cell_type": "markdown",
   "id": "4b0013d1-eff7-4db9-934b-9d5cbd44cb44",
   "metadata": {},
   "source": [
    "obj2.show()"
   ]
  },
  {
   "cell_type": "markdown",
   "id": "71299a04-31b8-4442-b984-beba848e7b26",
   "metadata": {},
   "source": []
  }
 ],
 "metadata": {
  "kernelspec": {
   "display_name": "Python 3 (ipykernel)",
   "language": "python",
   "name": "python3"
  },
  "language_info": {
   "codemirror_mode": {
    "name": "ipython",
    "version": 3
   },
   "file_extension": ".py",
   "mimetype": "text/x-python",
   "name": "python",
   "nbconvert_exporter": "python",
   "pygments_lexer": "ipython3",
   "version": "3.10.8"
  }
 },
 "nbformat": 4,
 "nbformat_minor": 5
}
